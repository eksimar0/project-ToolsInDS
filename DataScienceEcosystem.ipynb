{
 "cells": [
  {
   "cell_type": "markdown",
   "id": "1a120464-2727-4a3f-a551-eb294f4aae6c",
   "metadata": {},
   "source": [
    "# Data Science Tools and Ecosystem"
   ]
  },
  {
   "cell_type": "markdown",
   "id": "5627df09-80be-4d86-84a5-9beb41f19adf",
   "metadata": {},
   "source": [
    "## Author\n",
    "Eksimar Singh"
   ]
  },
  {
   "cell_type": "markdown",
   "id": "8a4e550e-c8bc-47c8-92f5-ebb6ebe855d0",
   "metadata": {},
   "source": [
    "In this notebook, Data Science Tools and Ecosystem are summarized."
   ]
  },
  {
   "cell_type": "markdown",
   "id": "607b0e3c-2f6e-490b-a40d-b8e167cf9eca",
   "metadata": {},
   "source": [
    "__Objectives:__\n",
    "+ List popular languages for Data Science\n",
    "+ Getting started with Jupyter\n",
    "+ Introduction to R and R Studio"
   ]
  },
  {
   "cell_type": "markdown",
   "id": "325dda18-b198-4342-b864-7dac8f3e91d4",
   "metadata": {},
   "source": [
    "Some of the popular languages that Data Scientists use are:\n",
    "1. Python\n",
    "2. R\n",
    "3. SQL"
   ]
  },
  {
   "cell_type": "markdown",
   "id": "1fe26441-aa47-48eb-80e4-904fa1b5a75b",
   "metadata": {},
   "source": [
    "Some of the commonly used libraries used by Data Scientists include:\n",
    "1. Tensorflow\n",
    "2. ggplot2\n",
    "3. NumPy"
   ]
  },
  {
   "cell_type": "markdown",
   "id": "ef501cbc-0e42-48aa-8904-945115cc2745",
   "metadata": {},
   "source": [
    "| Data Science Tools |\n",
    "| --------- |\n",
    "| R Studio |\n",
    "| Apache Spark |\n",
    "| Tensorflow |"
   ]
  },
  {
   "cell_type": "markdown",
   "id": "5289e909-3020-4121-8f6b-da15879b62b4",
   "metadata": {},
   "source": [
    "### Below are a few examples of evaluating arithmetic expressions in Python"
   ]
  },
  {
   "cell_type": "code",
   "execution_count": 5,
   "id": "1ff691d2-b136-4a10-9583-bd4f2a3b0b42",
   "metadata": {},
   "outputs": [
    {
     "data": {
      "text/plain": [
       "17"
      ]
     },
     "execution_count": 5,
     "metadata": {},
     "output_type": "execute_result"
    }
   ],
   "source": [
    "# This a simple arithmetic expression to multiply and then add integers\n",
    "(3*4)+5"
   ]
  },
  {
   "cell_type": "code",
   "execution_count": 6,
   "id": "70de2b82-efb7-4345-9bac-b6f5b48fa963",
   "metadata": {},
   "outputs": [
    {
     "name": "stdout",
     "output_type": "stream",
     "text": [
      "200 minutes is equal to 3.3333333333333335 hours\n"
     ]
    }
   ],
   "source": [
    "#  This will convert 200 minutes to hours by diving by 60\n",
    "minutes = 200\n",
    "hours = minutes/60\n",
    "print(\"200 minutes is equal to\", hours, \"hours\")"
   ]
  }
 ],
 "metadata": {
  "kernelspec": {
   "display_name": "Python 3 (ipykernel)",
   "language": "python",
   "name": "python3"
  },
  "language_info": {
   "codemirror_mode": {
    "name": "ipython",
    "version": 3
   },
   "file_extension": ".py",
   "mimetype": "text/x-python",
   "name": "python",
   "nbconvert_exporter": "python",
   "pygments_lexer": "ipython3",
   "version": "3.11.5"
  }
 },
 "nbformat": 4,
 "nbformat_minor": 5
}
